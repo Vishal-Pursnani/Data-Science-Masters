{
 "cells": [
  {
   "cell_type": "markdown",
   "id": "9535a2e3-8179-4782-8d65-aafd0a0233c6",
   "metadata": {},
   "source": [
    "#### Answer 1"
   ]
  },
  {
   "cell_type": "code",
   "execution_count": 23,
   "id": "16bf1b68-6b7b-4907-af28-987b35960a0f",
   "metadata": {},
   "outputs": [
    {
     "data": {
      "text/plain": [
       "[('Virat Kohli', 24936),\n",
       " ('Jack Kallis', 25534),\n",
       " ('Ricky Ponting', 27483),\n",
       " ('Sachin Tendulkar', 34357)]"
      ]
     },
     "execution_count": 23,
     "metadata": {},
     "output_type": "execute_result"
    }
   ],
   "source": [
    "a=[('Sachin Tendulkar', 34357), ('Ricky Ponting', 27483), ('Jack Kallis', 25534), ('Virat Kohli', 24936)]\n",
    "list( sorted(a,key= lambda x: x[1]))\n",
    "\n"
   ]
  },
  {
   "cell_type": "markdown",
   "id": "da1c8efc-20c2-4667-a63e-653f996c6687",
   "metadata": {},
   "source": [
    "#### Answer 2"
   ]
  },
  {
   "cell_type": "code",
   "execution_count": 5,
   "id": "0eb885f6-c0e6-4889-9d95-318093449d16",
   "metadata": {},
   "outputs": [
    {
     "data": {
      "text/plain": [
       "[1, 4, 9, 16, 25, 36, 49, 64, 81, 100]"
      ]
     },
     "execution_count": 5,
     "metadata": {},
     "output_type": "execute_result"
    }
   ],
   "source": [
    "b=[1, 2, 3, 4, 5, 6, 7, 8, 9, 10]\n",
    "list(map (lambda x: x**2, b))"
   ]
  },
  {
   "cell_type": "markdown",
   "id": "bcc30a22-69be-4b13-905e-e21dbda8178d",
   "metadata": {},
   "source": [
    "#### Answer 3"
   ]
  },
  {
   "cell_type": "code",
   "execution_count": 8,
   "id": "7c2409f5-4625-46d2-b14a-7af10cc4f3ec",
   "metadata": {},
   "outputs": [
    {
     "data": {
      "text/plain": [
       "('1', '2', '3', '4', '5', '6', '7', '8', '9', '10')"
      ]
     },
     "execution_count": 8,
     "metadata": {},
     "output_type": "execute_result"
    }
   ],
   "source": [
    "b=[1, 2, 3, 4, 5, 6, 7, 8, 9, 10]\n",
    "tuple (map(lambda x: str(x),b))"
   ]
  },
  {
   "cell_type": "markdown",
   "id": "d2e1d799-21e7-45a0-b2b0-e924b9ec8029",
   "metadata": {},
   "source": [
    "#### Answer 4"
   ]
  },
  {
   "cell_type": "code",
   "execution_count": 9,
   "id": "c74a9036-ed41-45ce-92eb-78d2a66b172e",
   "metadata": {},
   "outputs": [
    {
     "data": {
      "text/plain": [
       "[1,\n",
       " 2,\n",
       " 3,\n",
       " 4,\n",
       " 5,\n",
       " 6,\n",
       " 7,\n",
       " 8,\n",
       " 9,\n",
       " 10,\n",
       " 11,\n",
       " 12,\n",
       " 13,\n",
       " 14,\n",
       " 15,\n",
       " 16,\n",
       " 17,\n",
       " 18,\n",
       " 19,\n",
       " 20,\n",
       " 21,\n",
       " 22,\n",
       " 23,\n",
       " 24,\n",
       " 25]"
      ]
     },
     "execution_count": 9,
     "metadata": {},
     "output_type": "execute_result"
    }
   ],
   "source": [
    "c=[]\n",
    "for i in range(1,26):\n",
    "    c.append(i)\n",
    "c\n",
    "        "
   ]
  },
  {
   "cell_type": "markdown",
   "id": "896401b5-6491-4073-ac2a-52417b074e69",
   "metadata": {},
   "source": [
    "#### Answer 5"
   ]
  },
  {
   "cell_type": "code",
   "execution_count": 11,
   "id": "717c48ca-be17-4705-a95b-6977bcc75294",
   "metadata": {},
   "outputs": [],
   "source": [
    "from functools import reduce"
   ]
  },
  {
   "cell_type": "code",
   "execution_count": 13,
   "id": "d0484cbc-1a1f-4cf6-883f-00b6d754ec57",
   "metadata": {},
   "outputs": [
    {
     "data": {
      "text/plain": [
       "15511210043330985984000000"
      ]
     },
     "execution_count": 13,
     "metadata": {},
     "output_type": "execute_result"
    }
   ],
   "source": [
    "reduce(lambda x,y: x*y,c)"
   ]
  },
  {
   "cell_type": "markdown",
   "id": "944ae4ed-bae7-443e-a58c-34e9a7041af1",
   "metadata": {},
   "source": [
    "#### Answer 6"
   ]
  },
  {
   "cell_type": "code",
   "execution_count": 15,
   "id": "1ef44774-6527-45d9-8008-062f552d6190",
   "metadata": {},
   "outputs": [
    {
     "data": {
      "text/plain": [
       "[6, 60, 90, 120]"
      ]
     },
     "execution_count": 15,
     "metadata": {},
     "output_type": "execute_result"
    }
   ],
   "source": [
    "filt=[2, 3, 6, 9, 27, 60, 90, 120, 55, 46]\n",
    "list (filter(lambda x: x%2 ==0 and x % 3==0,filt))"
   ]
  },
  {
   "cell_type": "code",
   "execution_count": 18,
   "id": "a4cd4dc6-1068-4f28-8cbe-43570ec174f4",
   "metadata": {},
   "outputs": [
    {
     "data": {
      "text/plain": [
       "['php', 'aba', 'radar', 'level']"
      ]
     },
     "execution_count": 18,
     "metadata": {},
     "output_type": "execute_result"
    }
   ],
   "source": [
    "palin=['python', 'php', 'aba', 'radar', 'level']\n",
    "list( filter(lambda x: x[::-1]== x,palin))\n"
   ]
  },
  {
   "cell_type": "code",
   "execution_count": null,
   "id": "ef92fa55-b706-47b4-ba1a-00fa5747f534",
   "metadata": {},
   "outputs": [],
   "source": []
  }
 ],
 "metadata": {
  "kernelspec": {
   "display_name": "Python 3 (ipykernel)",
   "language": "python",
   "name": "python3"
  },
  "language_info": {
   "codemirror_mode": {
    "name": "ipython",
    "version": 3
   },
   "file_extension": ".py",
   "mimetype": "text/x-python",
   "name": "python",
   "nbconvert_exporter": "python",
   "pygments_lexer": "ipython3",
   "version": "3.10.8"
  }
 },
 "nbformat": 4,
 "nbformat_minor": 5
}
