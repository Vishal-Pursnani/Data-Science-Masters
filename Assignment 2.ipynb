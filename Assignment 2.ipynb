{
 "cells": [
  {
   "cell_type": "markdown",
   "id": "8b9c0067-8c0f-4d6b-9c90-96bfcf9df133",
   "metadata": {},
   "source": [
    "#### Answer 1\n",
    "###### The keyword used to create a function is **def**."
   ]
  },
  {
   "cell_type": "code",
   "execution_count": 1,
   "id": "6b3f7c8c-e32c-4ca2-83cf-af2a1726575c",
   "metadata": {},
   "outputs": [],
   "source": [
    "## Creating a function to return a list of odd numbers in the range of 1 to 25.\n",
    "\n",
    "def test1(a,b):\n",
    "    l_odd=[]\n",
    "    for i in range(a,b):\n",
    "        if i%2 != 0:\n",
    "            l_odd.append(i)\n",
    "    return l_odd"
   ]
  },
  {
   "cell_type": "code",
   "execution_count": 2,
   "id": "3629c1b9-1313-4ed5-a4a0-c56e4f6cdf47",
   "metadata": {},
   "outputs": [
    {
     "data": {
      "text/plain": [
       "[1, 3, 5, 7, 9, 11, 13, 15, 17, 19, 21, 23]"
      ]
     },
     "execution_count": 2,
     "metadata": {},
     "output_type": "execute_result"
    }
   ],
   "source": [
    "test1(1,25)"
   ]
  },
  {
   "cell_type": "markdown",
   "id": "9fb93844-5a8d-4fde-93ee-f51bc55e2ca9",
   "metadata": {},
   "source": [
    "#### Answer 2\n",
    "1. *args is used in functions so that any number of inputs can be given to the function\n",
    "2. **kwargs is used in functions so that any number of key and value combinations can be given as input"
   ]
  },
  {
   "cell_type": "code",
   "execution_count": 3,
   "id": "2c252c59-a49d-41ee-8bb5-62a6a7ae5226",
   "metadata": {},
   "outputs": [],
   "source": [
    "## Example for use of *args\n",
    "## Creating a function to separate out string items from the given input\n",
    "\n",
    "def test2(*args):\n",
    "    l=[]\n",
    "    for i in args:\n",
    "        if type(i) == str:\n",
    "            l.append(i)\n",
    "    return l\n",
    "            "
   ]
  },
  {
   "cell_type": "code",
   "execution_count": 4,
   "id": "c951ad14-0ccd-4b37-84d7-40a3fa9b307a",
   "metadata": {},
   "outputs": [
    {
     "data": {
      "text/plain": [
       "['name', 'agra', 'lotus_temple']"
      ]
     },
     "execution_count": 4,
     "metadata": {},
     "output_type": "execute_result"
    }
   ],
   "source": [
    "test2(1,2,2,4,5,6,7,98,'name','agra',74,101,'lotus_temple',True)"
   ]
  },
  {
   "cell_type": "code",
   "execution_count": 6,
   "id": "b861c34c-9868-4f60-9912-55d4d16171cd",
   "metadata": {},
   "outputs": [],
   "source": [
    "## Example for use of **kwargs\n",
    "## Creating a function to separate out key and value pairs where value is string in a new dictionary\n",
    "\n",
    "def test3(**kwargs):\n",
    "    l={}\n",
    "    for i in kwargs.keys():\n",
    "        if type(kwargs[i]) == str:\n",
    "            l.setdefault(i,kwargs[i])\n",
    "    return l\n",
    "            "
   ]
  },
  {
   "cell_type": "code",
   "execution_count": 7,
   "id": "da8565f6-b415-4c13-8f98-7a27a549d163",
   "metadata": {},
   "outputs": [
    {
     "data": {
      "text/plain": [
       "{'b': 'delhi', 'f': 'Orange', 'g': 'Protein'}"
      ]
     },
     "execution_count": 7,
     "metadata": {},
     "output_type": "execute_result"
    }
   ],
   "source": [
    "test3(a=1,b='delhi',c=95,d=900,e=False,f='Orange',g='Protein')"
   ]
  },
  {
   "cell_type": "markdown",
   "id": "f29d2c5d-8acf-4624-a676-76c34ae56251",
   "metadata": {},
   "source": [
    "#### Answer 4\n",
    "##### Iterator are methods which help in iterating through collections such as tuples, lists,etc. \n",
    "##### We can create a loop to extract out the elements\n",
    "##### iter() and next() are used for iteration and **for** can also be used for the same"
   ]
  },
  {
   "cell_type": "code",
   "execution_count": 9,
   "id": "ea378f0e-cac5-443e-8b81-97177dff9bfc",
   "metadata": {},
   "outputs": [],
   "source": [
    "list1=[2, 4, 6, 8, 10, 12, 14, 16, 18, 20]"
   ]
  },
  {
   "cell_type": "code",
   "execution_count": 10,
   "id": "ee3e00c9-fe26-4d41-b4c6-42bdf2fb9d85",
   "metadata": {},
   "outputs": [
    {
     "name": "stdout",
     "output_type": "stream",
     "text": [
      "2\n",
      "4\n",
      "6\n",
      "8\n",
      "10\n"
     ]
    }
   ],
   "source": [
    "lis1=iter(list1)\n",
    "\n",
    "print(next(lis1))\n",
    "print(next(lis1))\n",
    "print(next(lis1))\n",
    "print(next(lis1))\n",
    "print(next(lis1))"
   ]
  },
  {
   "cell_type": "code",
   "execution_count": 11,
   "id": "0673bd19-1d62-47ce-a32a-84c5359ea053",
   "metadata": {},
   "outputs": [
    {
     "name": "stdout",
     "output_type": "stream",
     "text": [
      "2\n",
      "4\n",
      "6\n",
      "8\n",
      "10\n"
     ]
    }
   ],
   "source": [
    "## Using for loop\n",
    "for i in range(0,5):\n",
    "    print(list1[i])"
   ]
  },
  {
   "cell_type": "markdown",
   "id": "8d54c87e-fce3-42cc-aff7-c2a253252eab",
   "metadata": {},
   "source": [
    "#### Answer 4\n",
    "##### Generator functions in python act as an iterator and provide an efficient method for creating iterators\n",
    "##### Yield keyword is used because it helps in converting the specified objects of a generator function and \n",
    "##### it is more efficient as compared to return when dealing with large datasets"
   ]
  },
  {
   "cell_type": "code",
   "execution_count": 1,
   "id": "3a2d967a-5ffb-4102-8e73-82838b6dea6e",
   "metadata": {},
   "outputs": [],
   "source": [
    "## Creating a generator fuction to get the series in which the next number is equal to sum of previous 3 numbers\n",
    "## Giving out first n numbers of this series\n",
    "\n",
    "def test_11(n):\n",
    "    a,b,c=0,1,2\n",
    "    for i in range(n):\n",
    "        yield a\n",
    "        a,b,c=b,c,a+b+c  "
   ]
  },
  {
   "cell_type": "code",
   "execution_count": 2,
   "id": "0c480973-2dd7-4570-aa17-3046f7bf3659",
   "metadata": {},
   "outputs": [
    {
     "data": {
      "text/plain": [
       "<generator object test_11 at 0x7f6c67cc9770>"
      ]
     },
     "execution_count": 2,
     "metadata": {},
     "output_type": "execute_result"
    }
   ],
   "source": [
    "test_11(10)"
   ]
  },
  {
   "cell_type": "code",
   "execution_count": 3,
   "id": "64deb33a-50e7-49f6-ad69-ecd1bb407767",
   "metadata": {},
   "outputs": [
    {
     "name": "stdout",
     "output_type": "stream",
     "text": [
      "0\n",
      "1\n",
      "2\n",
      "3\n",
      "6\n",
      "11\n",
      "20\n",
      "37\n",
      "68\n",
      "125\n"
     ]
    }
   ],
   "source": [
    "for i in test_11(10):\n",
    "    print(i)"
   ]
  },
  {
   "cell_type": "markdown",
   "id": "2cb2ca44-dbab-4168-99b7-e8ca0b6c4abf",
   "metadata": {},
   "source": [
    "#### Answer 5"
   ]
  },
  {
   "cell_type": "code",
   "execution_count": 17,
   "id": "5fd6f1a4-e968-44ba-868e-7ab7b510fea0",
   "metadata": {},
   "outputs": [],
   "source": [
    "def test_prime(n):\n",
    "    for i in range(2,n):\n",
    "        for j in range(2,i):\n",
    "            if i % j ==0:\n",
    "                break\n",
    "        else:\n",
    "            yield i"
   ]
  },
  {
   "cell_type": "code",
   "execution_count": 18,
   "id": "57feb383-760b-4a06-bd64-00934a99f007",
   "metadata": {},
   "outputs": [
    {
     "name": "stdout",
     "output_type": "stream",
     "text": [
      "2\n",
      "3\n",
      "5\n",
      "7\n",
      "11\n",
      "13\n",
      "17\n",
      "19\n",
      "23\n",
      "29\n",
      "31\n",
      "37\n",
      "41\n",
      "43\n",
      "47\n",
      "53\n",
      "59\n",
      "61\n",
      "67\n",
      "71\n",
      "73\n",
      "79\n",
      "83\n",
      "89\n",
      "97\n"
     ]
    }
   ],
   "source": [
    "for i in test_prime(100):\n",
    "    print(i)"
   ]
  },
  {
   "cell_type": "code",
   "execution_count": 23,
   "id": "c00d6760-0a6f-4f3c-93fa-98269879b99e",
   "metadata": {},
   "outputs": [],
   "source": [
    "## Using the next() to print first 20 prime numbers\n",
    "\n",
    "aa=iter(test_prime(1000))"
   ]
  },
  {
   "cell_type": "code",
   "execution_count": 24,
   "id": "7f429e20-3a03-4b58-b214-29777e399f2e",
   "metadata": {},
   "outputs": [
    {
     "name": "stdout",
     "output_type": "stream",
     "text": [
      "2\n",
      "3\n",
      "5\n",
      "7\n",
      "11\n",
      "13\n",
      "17\n",
      "19\n",
      "23\n",
      "29\n",
      "31\n",
      "37\n",
      "41\n",
      "43\n",
      "47\n",
      "53\n",
      "59\n",
      "61\n",
      "67\n",
      "71\n"
     ]
    }
   ],
   "source": [
    "print(next(aa))\n",
    "print(next(aa))\n",
    "print(next(aa))\n",
    "print(next(aa))\n",
    "print(next(aa))\n",
    "print(next(aa))\n",
    "print(next(aa))\n",
    "print(next(aa))\n",
    "print(next(aa))\n",
    "print(next(aa))\n",
    "print(next(aa))\n",
    "print(next(aa))\n",
    "print(next(aa))\n",
    "print(next(aa))\n",
    "print(next(aa))\n",
    "print(next(aa))\n",
    "print(next(aa))\n",
    "print(next(aa))\n",
    "print(next(aa))\n",
    "print(next(aa))"
   ]
  },
  {
   "cell_type": "code",
   "execution_count": null,
   "id": "c77752b2-7de1-46ed-9acf-c93f7fa6bf7c",
   "metadata": {},
   "outputs": [],
   "source": []
  }
 ],
 "metadata": {
  "kernelspec": {
   "display_name": "Python 3 (ipykernel)",
   "language": "python",
   "name": "python3"
  },
  "language_info": {
   "codemirror_mode": {
    "name": "ipython",
    "version": 3
   },
   "file_extension": ".py",
   "mimetype": "text/x-python",
   "name": "python",
   "nbconvert_exporter": "python",
   "pygments_lexer": "ipython3",
   "version": "3.10.8"
  }
 },
 "nbformat": 4,
 "nbformat_minor": 5
}
