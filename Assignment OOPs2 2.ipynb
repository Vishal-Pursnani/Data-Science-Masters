{
 "cells": [
  {
   "cell_type": "markdown",
   "id": "17ad9b06-3bc3-40c4-94b0-46270a45c56a",
   "metadata": {},
   "source": [
    "#### Answer 1"
   ]
  },
  {
   "cell_type": "code",
   "execution_count": 5,
   "id": "a6b32f02-5e85-4d29-9397-4f0a1b6d0c8b",
   "metadata": {},
   "outputs": [],
   "source": [
    "class vehicle:\n",
    "    def __init__(self, name_of_vehicle, max_speed, average_of_vehicle):\n",
    "        self.name_of_vehicle= name_of_vehicle\n",
    "        self.max_speed= max_speed\n",
    "        self.average_of_vehicle= average_of_vehicle"
   ]
  },
  {
   "cell_type": "markdown",
   "id": "6fdc06db-3703-4494-977f-fd63ebba1736",
   "metadata": {},
   "source": [
    "#### Answer 2"
   ]
  },
  {
   "cell_type": "code",
   "execution_count": 31,
   "id": "c0ba52a8-37f8-4d8a-b6d6-fcfe676c7a3e",
   "metadata": {},
   "outputs": [],
   "source": [
    "class car(vehicle):\n",
    "    def seating_capacity(self, seating_capacity):\n",
    "        self.seating_capacity=seating_capacity\n",
    "        print( self.seating_capacity, self.name_of_vehicle)"
   ]
  },
  {
   "cell_type": "code",
   "execution_count": 37,
   "id": "bfefe2f6-6cef-4852-8098-c5c299e4700c",
   "metadata": {},
   "outputs": [],
   "source": [
    "pw1=car('innova',200,11)"
   ]
  },
  {
   "cell_type": "code",
   "execution_count": 38,
   "id": "07f57f9e-138f-4a31-a514-c103425749f1",
   "metadata": {},
   "outputs": [
    {
     "name": "stdout",
     "output_type": "stream",
     "text": [
      "5 innova\n"
     ]
    }
   ],
   "source": [
    "pw1.seating_capacity(5)"
   ]
  },
  {
   "cell_type": "markdown",
   "id": "b68bbc09-976f-48ae-b181-52f584aa034f",
   "metadata": {},
   "source": [
    "#### Answer 3\n",
    "##### Multiple inheritance is that property when a class can inherit properties from more than one parent class"
   ]
  },
  {
   "cell_type": "code",
   "execution_count": 39,
   "id": "ddb51f62-baf9-4d76-aad2-113a45ffa2a2",
   "metadata": {},
   "outputs": [],
   "source": [
    "class class1:\n",
    "    def cl1(self):\n",
    "        return \"This is method of class 1\""
   ]
  },
  {
   "cell_type": "code",
   "execution_count": 40,
   "id": "c134317e-c3e9-4cbe-b365-8610121a251d",
   "metadata": {},
   "outputs": [],
   "source": [
    "class class2:\n",
    "    def cl2(self):\n",
    "        return \"This is method of class 2\""
   ]
  },
  {
   "cell_type": "code",
   "execution_count": 41,
   "id": "83dbb2c4-d540-425e-98ae-0c7585285b33",
   "metadata": {},
   "outputs": [],
   "source": [
    "class class3(class1, class2):\n",
    "    pass"
   ]
  },
  {
   "cell_type": "code",
   "execution_count": 42,
   "id": "6aee5843-3257-4d70-b69f-b0901df34361",
   "metadata": {},
   "outputs": [],
   "source": [
    "px=class3()"
   ]
  },
  {
   "cell_type": "code",
   "execution_count": 44,
   "id": "4ee1b45c-2511-4699-b2bf-e7226d5fb066",
   "metadata": {},
   "outputs": [
    {
     "data": {
      "text/plain": [
       "'This is method of class 1'"
      ]
     },
     "execution_count": 44,
     "metadata": {},
     "output_type": "execute_result"
    }
   ],
   "source": [
    "px.cl1()"
   ]
  },
  {
   "cell_type": "code",
   "execution_count": 45,
   "id": "caf67ab9-a2ee-4ff8-9414-85f3e18e41d9",
   "metadata": {},
   "outputs": [
    {
     "data": {
      "text/plain": [
       "'This is method of class 2'"
      ]
     },
     "execution_count": 45,
     "metadata": {},
     "output_type": "execute_result"
    }
   ],
   "source": [
    "px.cl2()"
   ]
  },
  {
   "cell_type": "markdown",
   "id": "82b2e869-ab26-49f5-86a2-7b9593673728",
   "metadata": {},
   "source": [
    "#### Answer 4\n",
    "##### Getters help in giving access to the user to view a private variable and similarly the setter helps in giving\n",
    "##### access to the user to set value of the private variable"
   ]
  },
  {
   "cell_type": "code",
   "execution_count": 60,
   "id": "37121e7e-72b1-4f51-a7a3-360e1deed9ba",
   "metadata": {},
   "outputs": [],
   "source": [
    "## Example\n",
    "\n",
    "class restaurant_bill:\n",
    "    def __init__(self, table_no, bill, tip):\n",
    "        self.table_no=table_no\n",
    "        self.bill=bill\n",
    "        self.__tip=tip\n",
    "        \n",
    "    @property         ## Getter\n",
    "    def tip_charged(self):\n",
    "        return self.__tip\n",
    "    \n",
    "    @tip_charged.setter\n",
    "    def set_tip(self,tip_set):\n",
    "        if tip_set<=100:\n",
    "            pass\n",
    "        else:\n",
    "            self.__tip=tip_set\n",
    "     "
   ]
  },
  {
   "cell_type": "code",
   "execution_count": 61,
   "id": "9ffab846-1bc3-4fe9-9117-a3785f0beed2",
   "metadata": {},
   "outputs": [],
   "source": [
    "p1=restaurant_bill(1,200,100)"
   ]
  },
  {
   "cell_type": "code",
   "execution_count": 62,
   "id": "7a9b25f6-1cff-4cfb-a672-34d322081375",
   "metadata": {},
   "outputs": [
    {
     "data": {
      "text/plain": [
       "100"
      ]
     },
     "execution_count": 62,
     "metadata": {},
     "output_type": "execute_result"
    }
   ],
   "source": [
    "p1.tip_charged"
   ]
  },
  {
   "cell_type": "code",
   "execution_count": 63,
   "id": "76a4f85e-9734-44b7-ad5a-c64ed614e5ba",
   "metadata": {},
   "outputs": [],
   "source": [
    "p1.set_tip=90"
   ]
  },
  {
   "cell_type": "code",
   "execution_count": 64,
   "id": "33e79f9b-79dd-4170-bdbf-ba1d5e0c1426",
   "metadata": {},
   "outputs": [
    {
     "data": {
      "text/plain": [
       "100"
      ]
     },
     "execution_count": 64,
     "metadata": {},
     "output_type": "execute_result"
    }
   ],
   "source": [
    "p1.tip_charged"
   ]
  },
  {
   "cell_type": "code",
   "execution_count": 65,
   "id": "b2efa6ee-398d-4882-a784-daac9622c2f6",
   "metadata": {},
   "outputs": [],
   "source": [
    "p1.set_tip=200"
   ]
  },
  {
   "cell_type": "code",
   "execution_count": 66,
   "id": "0fd30ae7-3d98-413f-9424-daece7acd45c",
   "metadata": {},
   "outputs": [
    {
     "data": {
      "text/plain": [
       "200"
      ]
     },
     "execution_count": 66,
     "metadata": {},
     "output_type": "execute_result"
    }
   ],
   "source": [
    "p1.tip_charged"
   ]
  },
  {
   "cell_type": "markdown",
   "id": "da478319-834d-46a8-91b1-1ccc73c52a6a",
   "metadata": {},
   "source": [
    "#### Answer 5\n",
    "##### Method overriding is the property of OOPs where if a sub-class or child class gives out a similar function\n",
    "##### it will override the function given by the parent class"
   ]
  },
  {
   "cell_type": "code",
   "execution_count": 77,
   "id": "b0d15dc0-1b0e-438b-9da1-59678a154a50",
   "metadata": {},
   "outputs": [],
   "source": [
    "## Example\n",
    "\n",
    "class parent1:\n",
    "    def __init__(self):\n",
    "        self.value=\"The parent class\"\n",
    "    def show(self):\n",
    "        print(self.value)"
   ]
  },
  {
   "cell_type": "code",
   "execution_count": 78,
   "id": "1474cd1e-c857-403c-b947-ed33f409b07f",
   "metadata": {},
   "outputs": [],
   "source": [
    "class child1(parent1):\n",
    "    def __init__(self):\n",
    "        self.value=\"The child class\"\n",
    "    def show(self):\n",
    "        print(self.value)\n",
    "    "
   ]
  },
  {
   "cell_type": "code",
   "execution_count": 79,
   "id": "91815529-153e-4833-aa10-18d2e6e1e962",
   "metadata": {},
   "outputs": [],
   "source": [
    "xyz=child1()"
   ]
  },
  {
   "cell_type": "code",
   "execution_count": 80,
   "id": "72ef5d63-76a3-4076-98d0-818c904fdf84",
   "metadata": {},
   "outputs": [
    {
     "name": "stdout",
     "output_type": "stream",
     "text": [
      "The child class\n"
     ]
    }
   ],
   "source": [
    "xyz.show()"
   ]
  },
  {
   "cell_type": "code",
   "execution_count": null,
   "id": "057af185-49b3-4ac2-adc4-b372738191c2",
   "metadata": {},
   "outputs": [],
   "source": []
  }
 ],
 "metadata": {
  "kernelspec": {
   "display_name": "Python 3 (ipykernel)",
   "language": "python",
   "name": "python3"
  },
  "language_info": {
   "codemirror_mode": {
    "name": "ipython",
    "version": 3
   },
   "file_extension": ".py",
   "mimetype": "text/x-python",
   "name": "python",
   "nbconvert_exporter": "python",
   "pygments_lexer": "ipython3",
   "version": "3.10.8"
  }
 },
 "nbformat": 4,
 "nbformat_minor": 5
}
