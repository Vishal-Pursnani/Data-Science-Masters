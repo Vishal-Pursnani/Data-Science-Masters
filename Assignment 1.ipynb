{
 "cells": [
  {
   "cell_type": "markdown",
   "id": "0c77cd7c-dfea-42a4-a17f-14fc1d550ce2",
   "metadata": {},
   "source": [
    "#### Answer 1\n",
    "###### Characteristics of Tuple are as follows\n",
    "1. It is ordered\n",
    "2. It is indexed\n",
    "3. It can contain duplicate elements unlike sets\n",
    "4. It is immutable\n",
    "\n",
    "###### Tuples are immutable"
   ]
  },
  {
   "cell_type": "markdown",
   "id": "c99620b2-0d93-4afa-ba64-3562de69749c",
   "metadata": {},
   "source": [
    "#### Answer 2\n",
    "###### The two tuple methods in python are \n",
    "1. Count\n",
    "2. Index\n",
    "\n",
    "##### Tuples have only 2 in-built methods as compared to list because it is immutable"
   ]
  },
  {
   "cell_type": "code",
   "execution_count": 8,
   "id": "07143088-7582-483a-9e4c-503e2954a860",
   "metadata": {},
   "outputs": [
    {
     "data": {
      "text/plain": [
       "2"
      ]
     },
     "execution_count": 8,
     "metadata": {},
     "output_type": "execute_result"
    }
   ],
   "source": [
    "## Example of count\n",
    "\n",
    "t1=(1,1,2,68,'Name',95,63,68)\n",
    "t1.count(68)\n",
    "\n",
    "## It returns the number of occurences of an element of a tuple\n"
   ]
  },
  {
   "cell_type": "code",
   "execution_count": 10,
   "id": "9c236358-06a7-41d5-9446-211ed2ec1da8",
   "metadata": {},
   "outputs": [
    {
     "data": {
      "text/plain": [
       "4"
      ]
     },
     "execution_count": 10,
     "metadata": {},
     "output_type": "execute_result"
    }
   ],
   "source": [
    "## Example of Index\n",
    "\n",
    "t1.index('Name')\n",
    "\n",
    "## It returns the index of the given element in the tuple"
   ]
  },
  {
   "cell_type": "markdown",
   "id": "d73b8f76-105a-4ad3-9da5-716616d370c4",
   "metadata": {},
   "source": [
    "#### Answer 3\n",
    "###### Sets do not allow duplicate items and for that matter dictionaries don't allow duplicate keys"
   ]
  },
  {
   "cell_type": "code",
   "execution_count": 13,
   "id": "e7584288-d441-440c-8d70-fb3aba97d25c",
   "metadata": {},
   "outputs": [
    {
     "data": {
      "text/plain": [
       "{1, 2, 3, 4}"
      ]
     },
     "execution_count": 13,
     "metadata": {},
     "output_type": "execute_result"
    }
   ],
   "source": [
    "List = [1, 1, 1, 2, 1, 3, 1, 4, 2, 1, 2, 2, 2, 3, 2, 4, 3, 1, 3, 2, 3, 3, 3, 4, 4, 1, 4, 2, 4, 3, 4, 4]\n",
    "set(List)"
   ]
  },
  {
   "cell_type": "markdown",
   "id": "09d4e261-baf6-4d42-b14a-9f5d58a44899",
   "metadata": {},
   "source": [
    "#### Answer 4\n",
    "###### The union() returns union of the chosen sets in a new \n",
    "###### The update() updates the existing set with the elements of itself and the other chosen set"
   ]
  },
  {
   "cell_type": "code",
   "execution_count": 35,
   "id": "aeee856c-7da3-402a-941a-e4af6c7f9944",
   "metadata": {},
   "outputs": [],
   "source": [
    "s1={1,2,3,4,5,8}\n",
    "s2={8,9,10,11,12,'Agra'}\n",
    "s4={5,'Agra','Delhi','Gurgaon'}"
   ]
  },
  {
   "cell_type": "code",
   "execution_count": 36,
   "id": "16e2d131-ec3b-47e2-b9c8-e6880216bb24",
   "metadata": {},
   "outputs": [
    {
     "data": {
      "text/plain": [
       "{1, 10, 11, 12, 2, 3, 4, 5, 8, 9, 'Agra'}"
      ]
     },
     "execution_count": 36,
     "metadata": {},
     "output_type": "execute_result"
    }
   ],
   "source": [
    "## Example of Union\n",
    "s3=s1.union(s2)\n",
    "s3"
   ]
  },
  {
   "cell_type": "code",
   "execution_count": 37,
   "id": "8d8a2b84-8cdf-470d-8204-f29143698a36",
   "metadata": {},
   "outputs": [
    {
     "data": {
      "text/plain": [
       "{1, 2, 3, 4, 5, 8, 'Agra', 'Delhi', 'Gurgaon'}"
      ]
     },
     "execution_count": 37,
     "metadata": {},
     "output_type": "execute_result"
    }
   ],
   "source": [
    "## Example of Update\n",
    "s1.update(s4)\n",
    "s1"
   ]
  },
  {
   "cell_type": "markdown",
   "id": "b36124f1-e108-43d4-a8bf-b5127fcd7c84",
   "metadata": {},
   "source": [
    "#### Answer 5\n",
    "###### Dictionaries are used to store data in the form of keys and values. They item in dictionary is stored in pair of a key and value. Values can be a list, tuple, set or even a dictionary. The dictionaries are ordered and cannot have duplicate keys.\n",
    "###### Dictionaries are ordered."
   ]
  },
  {
   "cell_type": "code",
   "execution_count": 3,
   "id": "05658c19-1f2b-4275-825d-3b01dece0917",
   "metadata": {},
   "outputs": [
    {
     "data": {
      "text/plain": [
       "{'name': 'xyz', 'height': 183, 'qualification': ['BBA', 'MBA']}"
      ]
     },
     "execution_count": 3,
     "metadata": {},
     "output_type": "execute_result"
    }
   ],
   "source": [
    "## Example of Dictionary\n",
    "\n",
    "d1={'name':'xyz','height':183,'qualification':['BBA','MBA']}\n",
    "d1"
   ]
  },
  {
   "cell_type": "markdown",
   "id": "b6bc97cb-8852-4d1e-808d-49cdc5177996",
   "metadata": {},
   "source": [
    "#### Answer 6\n",
    "###### Yes, a nested dictionary can be created"
   ]
  },
  {
   "cell_type": "code",
   "execution_count": 5,
   "id": "525eb2d1-106b-46b4-a895-0bb34d89cf6b",
   "metadata": {},
   "outputs": [
    {
     "data": {
      "text/plain": [
       "{'Course details': {'name': 'Data science masters',\n",
       "  'main_language': 'Python',\n",
       "  'Duration': 9}}"
      ]
     },
     "execution_count": 5,
     "metadata": {},
     "output_type": "execute_result"
    }
   ],
   "source": [
    "## Example of a nested dictionary\n",
    "d2={'Course details':{'name':'Data science masters','main_language':'Python','Duration':9}}\n",
    "d2"
   ]
  },
  {
   "cell_type": "markdown",
   "id": "40564e05-15fd-4cfc-aeaa-1bd6e6203a6d",
   "metadata": {},
   "source": [
    "#### Answer 7"
   ]
  },
  {
   "cell_type": "code",
   "execution_count": 10,
   "id": "e824a1c1-0b07-40e9-8588-c956744191ad",
   "metadata": {},
   "outputs": [],
   "source": [
    "dict1 = {'language' : 'Python', 'course': 'Data Science Masters'}"
   ]
  },
  {
   "cell_type": "code",
   "execution_count": 11,
   "id": "794d4bbe-bb7a-42cd-932b-f2810b79826d",
   "metadata": {},
   "outputs": [
    {
     "data": {
      "text/plain": [
       "{'language': 'Python',\n",
       " 'course': 'Data Science Masters',\n",
       " 'key': ['Python', 'Machine Learning', 'Deep Learning']}"
      ]
     },
     "execution_count": 11,
     "metadata": {},
     "output_type": "execute_result"
    }
   ],
   "source": [
    "dict1.setdefault('key',['Python', 'Machine Learning','Deep Learning'])\n",
    "dict1"
   ]
  },
  {
   "cell_type": "markdown",
   "id": "100b9a59-a702-436b-815d-e886e4e98ebf",
   "metadata": {},
   "source": [
    "#### Answer 8\n",
    "###### The three view objects for dictionary are keys, values and items"
   ]
  },
  {
   "cell_type": "code",
   "execution_count": null,
   "id": "62566f20-90e9-46ee-967c-10306298bacf",
   "metadata": {},
   "outputs": [],
   "source": [
    "dict2 = {'Sport': 'Cricket' , 'Teams': ['India', 'Australia', 'England', 'South Africa', 'Sri Lanka', 'New Zealand']}"
   ]
  },
  {
   "cell_type": "code",
   "execution_count": null,
   "id": "6e5a61ad-a6ed-4a42-8a43-6b9373a646fb",
   "metadata": {},
   "outputs": [],
   "source": [
    "dict2.keys()"
   ]
  },
  {
   "cell_type": "code",
   "execution_count": null,
   "id": "182f543e-d208-4622-9037-7be3ae9fff25",
   "metadata": {},
   "outputs": [],
   "source": [
    "dict2.values()"
   ]
  },
  {
   "cell_type": "code",
   "execution_count": null,
   "id": "af1f83cf-052c-46c3-ba69-d7d7e0ecfb60",
   "metadata": {},
   "outputs": [],
   "source": [
    "dict2.items()"
   ]
  },
  {
   "cell_type": "code",
   "execution_count": null,
   "id": "275e8445-7ea3-474d-aa2f-99af05ed5369",
   "metadata": {},
   "outputs": [],
   "source": []
  }
 ],
 "metadata": {
  "kernelspec": {
   "display_name": "Python 3 (ipykernel)",
   "language": "python",
   "name": "python3"
  },
  "language_info": {
   "codemirror_mode": {
    "name": "ipython",
    "version": 3
   },
   "file_extension": ".py",
   "mimetype": "text/x-python",
   "name": "python",
   "nbconvert_exporter": "python",
   "pygments_lexer": "ipython3",
   "version": "3.10.8"
  }
 },
 "nbformat": 4,
 "nbformat_minor": 5
}
