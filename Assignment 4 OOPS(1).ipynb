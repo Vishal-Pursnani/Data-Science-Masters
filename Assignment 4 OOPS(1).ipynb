{
 "cells": [
  {
   "cell_type": "markdown",
   "id": "8eef133f-11d1-4fcc-b175-e18ebfc8bb24",
   "metadata": {},
   "source": [
    "#### Answer 1"
   ]
  },
  {
   "cell_type": "markdown",
   "id": "78cf91a2-566b-4626-87aa-29ac3d41b2f5",
   "metadata": {},
   "source": [
    "##### Class in OOPS gives a framework where all the variables and functions are defined.\n",
    "##### An object in OOPS is a specimen of that particular class which has all the properties.\n",
    "\n",
    "##### Example: Class could be ice-cream and it's variables could be base (milk, sugar-free, dairy free) other variable could be flavour , size & form etc.\n",
    "##### an object could be cornetto which gives the inputs for variables as follows milk base, chocolate, medium , cone."
   ]
  },
  {
   "cell_type": "code",
   "execution_count": 1,
   "id": "1951bea5-9ae6-4f20-8917-c9fc3d8a7691",
   "metadata": {},
   "outputs": [],
   "source": [
    "class ice_cream:\n",
    "    def __init__(self, base, flavour, size, form):\n",
    "        self.base=base\n",
    "        self.flavour= flavour\n",
    "        self.size= size\n",
    "        self.form= form"
   ]
  },
  {
   "cell_type": "code",
   "execution_count": 2,
   "id": "b9475001-78ec-437f-a3fd-55c1fb0a093f",
   "metadata": {},
   "outputs": [],
   "source": [
    "obj_cornetto=ice_cream( 'milk', 'chocolate','medium', 'cone')"
   ]
  },
  {
   "cell_type": "code",
   "execution_count": 9,
   "id": "966b1585-76ff-4de6-9620-b25bb02a58f4",
   "metadata": {},
   "outputs": [
    {
     "data": {
      "text/plain": [
       "'chocolate'"
      ]
     },
     "execution_count": 9,
     "metadata": {},
     "output_type": "execute_result"
    }
   ],
   "source": [
    "obj_cornetto.flavour"
   ]
  },
  {
   "cell_type": "markdown",
   "id": "789a4002-87cc-41c0-980f-0891f5304dc7",
   "metadata": {},
   "source": [
    "#### Answer 2"
   ]
  },
  {
   "cell_type": "markdown",
   "id": "7a2e2ccf-572e-4c73-8cd6-ec39ecb86009",
   "metadata": {},
   "source": [
    "##### The Four Pillars of Object Oriented Programming\n",
    "1. Polymorphism\n",
    "2. Encapsulation\n",
    "3. Inheritance\n",
    "4. Abstraction"
   ]
  },
  {
   "cell_type": "markdown",
   "id": "c309cf08-e1c6-4065-8746-d3bd35cc79ae",
   "metadata": {},
   "source": [
    "#### Answer 3\n",
    "\n",
    "##### __init__ is a constructor for a class , which captures all the attributes from an object related to a class."
   ]
  },
  {
   "cell_type": "code",
   "execution_count": 16,
   "id": "f6938805-6d34-4f04-bd1f-a103c6b64871",
   "metadata": {},
   "outputs": [],
   "source": [
    "class vehicle:\n",
    "    def __init__ (self, wheel, fuel_type , make, speed):\n",
    "        self.wheels=wheel\n",
    "        self.fuel_type= fuel_type\n",
    "        self.make= make\n",
    "        self.speed= speed"
   ]
  },
  {
   "cell_type": "code",
   "execution_count": 17,
   "id": "6a020da9-e99b-4da0-b14a-8d92e27b0fa1",
   "metadata": {},
   "outputs": [],
   "source": [
    "obj_vehicle= vehicle( 2,'petrol','apache',180)"
   ]
  },
  {
   "cell_type": "code",
   "execution_count": 18,
   "id": "70e758de-378d-4ab8-b89d-3750314b2128",
   "metadata": {},
   "outputs": [
    {
     "data": {
      "text/plain": [
       "2"
      ]
     },
     "execution_count": 18,
     "metadata": {},
     "output_type": "execute_result"
    }
   ],
   "source": [
    "obj_vehicle.wheels"
   ]
  },
  {
   "cell_type": "markdown",
   "id": "53b50dc2-8fd7-4fd8-af06-b2e2e166b7f7",
   "metadata": {},
   "source": [
    "#### Answer 4\n",
    "\n",
    "##### Self is used in OOPs as it points the attributes towards the class and provides instance.\n",
    "##### Any other word can be used instead to self, but it is a convention therefore mostly self is used."
   ]
  },
  {
   "cell_type": "markdown",
   "id": "91006547-99d5-476b-8076-6ec63aca4b1b",
   "metadata": {},
   "source": [
    "#### Answer 5\n",
    "\n",
    "##### Inheritance is a property by which the child class inherits all the functions and properties of the parent class."
   ]
  },
  {
   "cell_type": "code",
   "execution_count": 22,
   "id": "92506c92-48e6-4647-9af0-0f9ea2793426",
   "metadata": {},
   "outputs": [],
   "source": [
    "## Example of Multi-level inheritance\n",
    "\n",
    "class class1:\n",
    "    def cl1(self):\n",
    "        return \"This is class1 function\""
   ]
  },
  {
   "cell_type": "code",
   "execution_count": 25,
   "id": "5927872d-dfeb-40bb-af87-6356d0c4bfea",
   "metadata": {},
   "outputs": [],
   "source": [
    "class class2(class1):\n",
    "    def cl2(self):\n",
    "        return \"This is class2 function\""
   ]
  },
  {
   "cell_type": "code",
   "execution_count": 26,
   "id": "d0ff6479-91d6-4535-b51b-cc24b852ddee",
   "metadata": {},
   "outputs": [],
   "source": [
    "class class3(class2):\n",
    "    pass"
   ]
  },
  {
   "cell_type": "code",
   "execution_count": 29,
   "id": "4d35a4c6-c3cc-4924-876c-30668789f62f",
   "metadata": {},
   "outputs": [],
   "source": [
    "obj_class3=class3()"
   ]
  },
  {
   "cell_type": "code",
   "execution_count": 31,
   "id": "7f939f21-6e04-4bce-a59c-41b937254bf9",
   "metadata": {},
   "outputs": [
    {
     "data": {
      "text/plain": [
       "'This is class1 function'"
      ]
     },
     "execution_count": 31,
     "metadata": {},
     "output_type": "execute_result"
    }
   ],
   "source": [
    "obj_class3.cl1()"
   ]
  },
  {
   "cell_type": "code",
   "execution_count": 32,
   "id": "fcd8f7b1-0ce7-4abb-933c-9a411388b030",
   "metadata": {},
   "outputs": [
    {
     "data": {
      "text/plain": [
       "'This is class2 function'"
      ]
     },
     "execution_count": 32,
     "metadata": {},
     "output_type": "execute_result"
    }
   ],
   "source": [
    "obj_class3.cl2()"
   ]
  },
  {
   "cell_type": "code",
   "execution_count": 40,
   "id": "f51e7d95-bad4-4fce-a2ba-a9be9f829a79",
   "metadata": {},
   "outputs": [],
   "source": [
    "## Multiple Inheritance Example\n",
    "class class4:\n",
    "    def cl4(self):\n",
    "        print (\"This is class4 function\")"
   ]
  },
  {
   "cell_type": "code",
   "execution_count": 34,
   "id": "53bb9fe6-3aaa-4ce1-956e-6dd25e1ecd68",
   "metadata": {},
   "outputs": [],
   "source": [
    "class class5(class1, class4):\n",
    "    pass"
   ]
  },
  {
   "cell_type": "code",
   "execution_count": 35,
   "id": "520c3710-b448-4149-ab5c-c911991b10c7",
   "metadata": {},
   "outputs": [],
   "source": [
    "obj_class5=class5()"
   ]
  },
  {
   "cell_type": "code",
   "execution_count": 38,
   "id": "78abecbf-234d-4973-9d24-821f63395c14",
   "metadata": {},
   "outputs": [
    {
     "name": "stdout",
     "output_type": "stream",
     "text": [
      "This is class4 function\n"
     ]
    }
   ],
   "source": [
    "obj_class5.cl4()"
   ]
  },
  {
   "cell_type": "code",
   "execution_count": 39,
   "id": "723d5ce3-544b-4416-9d5f-c47b94b08105",
   "metadata": {},
   "outputs": [
    {
     "data": {
      "text/plain": [
       "'This is class1 function'"
      ]
     },
     "execution_count": 39,
     "metadata": {},
     "output_type": "execute_result"
    }
   ],
   "source": [
    "obj_class5.cl1()"
   ]
  },
  {
   "cell_type": "code",
   "execution_count": null,
   "id": "8af43348-e44a-4051-bb00-16d6f24c4154",
   "metadata": {},
   "outputs": [],
   "source": []
  }
 ],
 "metadata": {
  "kernelspec": {
   "display_name": "Python 3 (ipykernel)",
   "language": "python",
   "name": "python3"
  },
  "language_info": {
   "codemirror_mode": {
    "name": "ipython",
    "version": 3
   },
   "file_extension": ".py",
   "mimetype": "text/x-python",
   "name": "python",
   "nbconvert_exporter": "python",
   "pygments_lexer": "ipython3",
   "version": "3.10.8"
  }
 },
 "nbformat": 4,
 "nbformat_minor": 5
}
